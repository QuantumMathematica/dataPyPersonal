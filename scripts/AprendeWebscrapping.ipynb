{
 "cells": [
  {
   "cell_type": "code",
   "execution_count": 1,
   "metadata": {},
   "outputs": [],
   "source": [
    "import requests"
   ]
  },
  {
   "cell_type": "code",
   "execution_count": 2,
   "metadata": {},
   "outputs": [],
   "source": [
    "import pandas as pd\n",
    "from bs4 import BeautifulSoup"
   ]
  },
  {
   "cell_type": "code",
   "execution_count": 3,
   "metadata": {},
   "outputs": [],
   "source": [
    "page = requests.get(\n",
    "    \"http://forecast.weather.gov/MapClick.php?lat=37.7772&lon=-122.4168\"\n",
    ")\n",
    "soup = BeautifulSoup(page.content, 'html.parser')"
   ]
  },
  {
   "cell_type": "code",
   "execution_count": 5,
   "metadata": {},
   "outputs": [],
   "source": [
    "# Look for the HTML id tag in a browser inspector\n",
    "seven_day = soup.find(id=\"seven-day-forecast\")\n",
    "forecast_items = seven_day.find_all(class_=\"tombstone-container\")"
   ]
  },
  {
   "cell_type": "code",
   "execution_count": 6,
   "metadata": {},
   "outputs": [
    {
     "data": {
      "text/plain": [
       "<div class=\"panel panel-default\" id=\"seven-day-forecast\">\n",
       "<div class=\"panel-heading\">\n",
       "<b>Extended Forecast for</b>\n",
       "<h2 class=\"panel-title\">\n",
       "\t    \t    San Francisco CA\t</h2>\n",
       "</div>\n",
       "<div class=\"panel-body\" id=\"seven-day-forecast-body\">\n",
       "<div id=\"seven-day-forecast-container\"><ul class=\"list-unstyled\" id=\"seven-day-forecast-list\"><li class=\"forecast-tombstone\">\n",
       "<div class=\"tombstone-container\">\n",
       "<p class=\"period-name\">Today<br/><br/></p>\n",
       "<p><img alt=\"Today: Sunny, with a high near 78. West southwest wind 6 to 15 mph, with gusts as high as 20 mph. \" class=\"forecast-icon\" src=\"newimages/medium/few.png\" title=\"Today: Sunny, with a high near 78. West southwest wind 6 to 15 mph, with gusts as high as 20 mph. \"/></p><p class=\"short-desc\">Sunny</p><p class=\"temp temp-high\">High: 78 °F</p></div></li><li class=\"forecast-tombstone\">\n",
       "<div class=\"tombstone-container\">\n",
       "<p class=\"period-name\">Tonight<br/><br/></p>\n",
       "<p><img alt=\"Tonight: Patchy fog after 11pm.  Otherwise, increasing clouds, with a low around 56. West southwest wind 9 to 15 mph, with gusts as high as 18 mph. \" class=\"forecast-icon\" src=\"newimages/medium/nfg.png\" title=\"Tonight: Patchy fog after 11pm.  Otherwise, increasing clouds, with a low around 56. West southwest wind 9 to 15 mph, with gusts as high as 18 mph. \"/></p><p class=\"short-desc\">Patchy Fog</p><p class=\"temp temp-low\">Low: 56 °F</p></div></li><li class=\"forecast-tombstone\">\n",
       "<div class=\"tombstone-container\">\n",
       "<p class=\"period-name\">Thursday<br/><br/></p>\n",
       "<p><img alt=\"Thursday: Patchy fog before 8am.  Otherwise, cloudy, then gradually becoming mostly sunny, with a high near 70. West southwest wind 9 to 16 mph, with gusts as high as 21 mph. \" class=\"forecast-icon\" src=\"DualImage.php?i=fg&amp;j=sct\" title=\"Thursday: Patchy fog before 8am.  Otherwise, cloudy, then gradually becoming mostly sunny, with a high near 70. West southwest wind 9 to 16 mph, with gusts as high as 21 mph. \"/></p><p class=\"short-desc\">Patchy Fog<br/>then Mostly<br/>Sunny</p><p class=\"temp temp-high\">High: 70 °F</p></div></li><li class=\"forecast-tombstone\">\n",
       "<div class=\"tombstone-container\">\n",
       "<p class=\"period-name\">Thursday<br/>Night</p>\n",
       "<p><img alt=\"Thursday Night: Increasing clouds, with a low around 55. West southwest wind 10 to 16 mph, with gusts as high as 21 mph. \" class=\"forecast-icon\" src=\"newimages/medium/nbkn.png\" title=\"Thursday Night: Increasing clouds, with a low around 55. West southwest wind 10 to 16 mph, with gusts as high as 21 mph. \"/></p><p class=\"short-desc\">Increasing<br/>Clouds</p><p class=\"temp temp-low\">Low: 55 °F</p></div></li><li class=\"forecast-tombstone\">\n",
       "<div class=\"tombstone-container\">\n",
       "<p class=\"period-name\">Friday<br/><br/></p>\n",
       "<p><img alt=\"Friday: Partly sunny, with a high near 69. West southwest wind 9 to 14 mph, with gusts as high as 18 mph. \" class=\"forecast-icon\" src=\"newimages/medium/bkn.png\" title=\"Friday: Partly sunny, with a high near 69. West southwest wind 9 to 14 mph, with gusts as high as 18 mph. \"/></p><p class=\"short-desc\">Partly Sunny</p><p class=\"temp temp-high\">High: 69 °F</p></div></li><li class=\"forecast-tombstone\">\n",
       "<div class=\"tombstone-container\">\n",
       "<p class=\"period-name\">Friday<br/>Night</p>\n",
       "<p><img alt=\"Friday Night: Mostly cloudy, with a low around 55.\" class=\"forecast-icon\" src=\"newimages/medium/nbkn.png\" title=\"Friday Night: Mostly cloudy, with a low around 55.\"/></p><p class=\"short-desc\">Mostly Cloudy</p><p class=\"temp temp-low\">Low: 55 °F</p></div></li><li class=\"forecast-tombstone\">\n",
       "<div class=\"tombstone-container\">\n",
       "<p class=\"period-name\">Saturday<br/><br/></p>\n",
       "<p><img alt=\"Saturday: Partly sunny, with a high near 68.\" class=\"forecast-icon\" src=\"newimages/medium/bkn.png\" title=\"Saturday: Partly sunny, with a high near 68.\"/></p><p class=\"short-desc\">Partly Sunny</p><p class=\"temp temp-high\">High: 68 °F</p></div></li><li class=\"forecast-tombstone\">\n",
       "<div class=\"tombstone-container\">\n",
       "<p class=\"period-name\">Saturday<br/>Night</p>\n",
       "<p><img alt=\"Saturday Night: Mostly cloudy, with a low around 55.\" class=\"forecast-icon\" src=\"newimages/medium/nbkn.png\" title=\"Saturday Night: Mostly cloudy, with a low around 55.\"/></p><p class=\"short-desc\">Mostly Cloudy</p><p class=\"temp temp-low\">Low: 55 °F</p></div></li><li class=\"forecast-tombstone\">\n",
       "<div class=\"tombstone-container\">\n",
       "<p class=\"period-name\">Sunday<br/><br/></p>\n",
       "<p><img alt=\"Sunday: Partly sunny, with a high near 71.\" class=\"forecast-icon\" src=\"newimages/medium/bkn.png\" title=\"Sunday: Partly sunny, with a high near 71.\"/></p><p class=\"short-desc\">Partly Sunny</p><p class=\"temp temp-high\">High: 71 °F</p></div></li></ul></div>\n",
       "<script type=\"text/javascript\">\n",
       "// equalize forecast heights\n",
       "$(function () {\n",
       "\tvar maxh = 0;\n",
       "\t$(\".forecast-tombstone .short-desc\").each(function () {\n",
       "\t\tvar h = $(this).height();\n",
       "\t\tif (h > maxh) { maxh = h; }\n",
       "\t});\n",
       "\t$(\".forecast-tombstone .short-desc\").height(maxh);\n",
       "});\n",
       "</script> </div>\n",
       "</div>"
      ]
     },
     "execution_count": 6,
     "metadata": {},
     "output_type": "execute_result"
    }
   ],
   "source": [
    "seven_day"
   ]
  },
  {
   "cell_type": "code",
   "execution_count": 7,
   "metadata": {},
   "outputs": [
    {
     "data": {
      "text/plain": [
       "[<div class=\"tombstone-container\">\n",
       " <p class=\"period-name\">Today<br/><br/></p>\n",
       " <p><img alt=\"Today: Sunny, with a high near 78. West southwest wind 6 to 15 mph, with gusts as high as 20 mph. \" class=\"forecast-icon\" src=\"newimages/medium/few.png\" title=\"Today: Sunny, with a high near 78. West southwest wind 6 to 15 mph, with gusts as high as 20 mph. \"/></p><p class=\"short-desc\">Sunny</p><p class=\"temp temp-high\">High: 78 °F</p></div>,\n",
       " <div class=\"tombstone-container\">\n",
       " <p class=\"period-name\">Tonight<br/><br/></p>\n",
       " <p><img alt=\"Tonight: Patchy fog after 11pm.  Otherwise, increasing clouds, with a low around 56. West southwest wind 9 to 15 mph, with gusts as high as 18 mph. \" class=\"forecast-icon\" src=\"newimages/medium/nfg.png\" title=\"Tonight: Patchy fog after 11pm.  Otherwise, increasing clouds, with a low around 56. West southwest wind 9 to 15 mph, with gusts as high as 18 mph. \"/></p><p class=\"short-desc\">Patchy Fog</p><p class=\"temp temp-low\">Low: 56 °F</p></div>,\n",
       " <div class=\"tombstone-container\">\n",
       " <p class=\"period-name\">Thursday<br/><br/></p>\n",
       " <p><img alt=\"Thursday: Patchy fog before 8am.  Otherwise, cloudy, then gradually becoming mostly sunny, with a high near 70. West southwest wind 9 to 16 mph, with gusts as high as 21 mph. \" class=\"forecast-icon\" src=\"DualImage.php?i=fg&amp;j=sct\" title=\"Thursday: Patchy fog before 8am.  Otherwise, cloudy, then gradually becoming mostly sunny, with a high near 70. West southwest wind 9 to 16 mph, with gusts as high as 21 mph. \"/></p><p class=\"short-desc\">Patchy Fog<br/>then Mostly<br/>Sunny</p><p class=\"temp temp-high\">High: 70 °F</p></div>,\n",
       " <div class=\"tombstone-container\">\n",
       " <p class=\"period-name\">Thursday<br/>Night</p>\n",
       " <p><img alt=\"Thursday Night: Increasing clouds, with a low around 55. West southwest wind 10 to 16 mph, with gusts as high as 21 mph. \" class=\"forecast-icon\" src=\"newimages/medium/nbkn.png\" title=\"Thursday Night: Increasing clouds, with a low around 55. West southwest wind 10 to 16 mph, with gusts as high as 21 mph. \"/></p><p class=\"short-desc\">Increasing<br/>Clouds</p><p class=\"temp temp-low\">Low: 55 °F</p></div>,\n",
       " <div class=\"tombstone-container\">\n",
       " <p class=\"period-name\">Friday<br/><br/></p>\n",
       " <p><img alt=\"Friday: Partly sunny, with a high near 69. West southwest wind 9 to 14 mph, with gusts as high as 18 mph. \" class=\"forecast-icon\" src=\"newimages/medium/bkn.png\" title=\"Friday: Partly sunny, with a high near 69. West southwest wind 9 to 14 mph, with gusts as high as 18 mph. \"/></p><p class=\"short-desc\">Partly Sunny</p><p class=\"temp temp-high\">High: 69 °F</p></div>,\n",
       " <div class=\"tombstone-container\">\n",
       " <p class=\"period-name\">Friday<br/>Night</p>\n",
       " <p><img alt=\"Friday Night: Mostly cloudy, with a low around 55.\" class=\"forecast-icon\" src=\"newimages/medium/nbkn.png\" title=\"Friday Night: Mostly cloudy, with a low around 55.\"/></p><p class=\"short-desc\">Mostly Cloudy</p><p class=\"temp temp-low\">Low: 55 °F</p></div>,\n",
       " <div class=\"tombstone-container\">\n",
       " <p class=\"period-name\">Saturday<br/><br/></p>\n",
       " <p><img alt=\"Saturday: Partly sunny, with a high near 68.\" class=\"forecast-icon\" src=\"newimages/medium/bkn.png\" title=\"Saturday: Partly sunny, with a high near 68.\"/></p><p class=\"short-desc\">Partly Sunny</p><p class=\"temp temp-high\">High: 68 °F</p></div>,\n",
       " <div class=\"tombstone-container\">\n",
       " <p class=\"period-name\">Saturday<br/>Night</p>\n",
       " <p><img alt=\"Saturday Night: Mostly cloudy, with a low around 55.\" class=\"forecast-icon\" src=\"newimages/medium/nbkn.png\" title=\"Saturday Night: Mostly cloudy, with a low around 55.\"/></p><p class=\"short-desc\">Mostly Cloudy</p><p class=\"temp temp-low\">Low: 55 °F</p></div>,\n",
       " <div class=\"tombstone-container\">\n",
       " <p class=\"period-name\">Sunday<br/><br/></p>\n",
       " <p><img alt=\"Sunday: Partly sunny, with a high near 71.\" class=\"forecast-icon\" src=\"newimages/medium/bkn.png\" title=\"Sunday: Partly sunny, with a high near 71.\"/></p><p class=\"short-desc\">Partly Sunny</p><p class=\"temp temp-high\">High: 71 °F</p></div>]"
      ]
     },
     "execution_count": 7,
     "metadata": {},
     "output_type": "execute_result"
    }
   ],
   "source": [
    "forecast_items"
   ]
  },
  {
   "cell_type": "code",
   "execution_count": 8,
   "metadata": {},
   "outputs": [
    {
     "name": "stdout",
     "output_type": "stream",
     "text": [
      "<div class=\"tombstone-container\">\n",
      " <p class=\"period-name\">\n",
      "  Today\n",
      "  <br/>\n",
      "  <br/>\n",
      " </p>\n",
      " <p>\n",
      "  <img alt=\"Today: Sunny, with a high near 78. West southwest wind 6 to 15 mph, with gusts as high as 20 mph. \" class=\"forecast-icon\" src=\"newimages/medium/few.png\" title=\"Today: Sunny, with a high near 78. West southwest wind 6 to 15 mph, with gusts as high as 20 mph. \"/>\n",
      " </p>\n",
      " <p class=\"short-desc\">\n",
      "  Sunny\n",
      " </p>\n",
      " <p class=\"temp temp-high\">\n",
      "  High: 78 °F\n",
      " </p>\n",
      "</div>\n"
     ]
    }
   ],
   "source": [
    "tonight = forecast_items[0]\n",
    "print(tonight.prettify())"
   ]
  },
  {
   "cell_type": "code",
   "execution_count": 9,
   "metadata": {},
   "outputs": [],
   "source": [
    "period = tonight.find(class_=\"period-name\").get_text()"
   ]
  },
  {
   "cell_type": "code",
   "execution_count": 10,
   "metadata": {},
   "outputs": [
    {
     "data": {
      "text/plain": [
       "'Today'"
      ]
     },
     "execution_count": 10,
     "metadata": {},
     "output_type": "execute_result"
    }
   ],
   "source": [
    "period"
   ]
  },
  {
   "cell_type": "code",
   "execution_count": 11,
   "metadata": {},
   "outputs": [],
   "source": [
    "short_desc = tonight.find(class_=\"short-desc\").get_text()"
   ]
  },
  {
   "cell_type": "code",
   "execution_count": null,
   "metadata": {},
   "outputs": [],
   "source": []
  }
 ],
 "metadata": {
  "kernelspec": {
   "display_name": "Python 3",
   "language": "python",
   "name": "python3"
  },
  "language_info": {
   "codemirror_mode": {
    "name": "ipython",
    "version": 3
   },
   "file_extension": ".py",
   "mimetype": "text/x-python",
   "name": "python",
   "nbconvert_exporter": "python",
   "pygments_lexer": "ipython3",
   "version": "3.7.3"
  }
 },
 "nbformat": 4,
 "nbformat_minor": 2
}
